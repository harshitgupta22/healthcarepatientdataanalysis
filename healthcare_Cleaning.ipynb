{
 "cells": [
  {
   "cell_type": "code",
   "execution_count": 1,
   "id": "a6856dae-d5d6-4449-b121-e93b8b020fe1",
   "metadata": {},
   "outputs": [],
   "source": [
    "import pandas as pd\n",
    "import numpy as np"
   ]
  },
  {
   "cell_type": "markdown",
   "id": "4a10aada-d42d-4fa0-aa69-1ce164883c32",
   "metadata": {},
   "source": [
    "# Data Preparation and Cleaning"
   ]
  },
  {
   "cell_type": "code",
   "execution_count": 2,
   "id": "21bf4aa2-1641-4279-a63b-6c7016531eaa",
   "metadata": {
    "scrolled": true
   },
   "outputs": [],
   "source": [
    "patient = pd.read_csv(r\"C:\\Users\\9235v\\Downloads\\Synthea2.0\\patients.csv\")\n",
    "disease = pd.read_csv(r\"C:\\Users\\9235v\\Downloads\\Synthea2.0\\allergies.csv\")\n",
    "medicine = pd.read_csv(r\"C:\\Users\\9235v\\Downloads\\Synthea2.0\\medications.csv\")\n",
    "tests = pd.read_csv(r\"C:\\Users\\9235v\\Downloads\\Synthea2.0\\imaging_studies.csv\")\n"
   ]
  },
  {
   "cell_type": "code",
   "execution_count": null,
   "id": "08c8ffe3-9f4a-4a0b-819f-f83f3d51d574",
   "metadata": {},
   "outputs": [],
   "source": []
  },
  {
   "cell_type": "code",
   "execution_count": 3,
   "id": "70b78cbf-ee12-478f-9708-0d5953497b17",
   "metadata": {
    "scrolled": true
   },
   "outputs": [
    {
     "name": "stdout",
     "output_type": "stream",
     "text": [
      "<class 'pandas.core.frame.DataFrame'>\n",
      "RangeIndex: 1183 entries, 0 to 1182\n",
      "Data columns (total 27 columns):\n",
      " #   Column               Non-Null Count  Dtype  \n",
      "---  ------               --------------  -----  \n",
      " 0   Id                   1183 non-null   object \n",
      " 1   BIRTHDATE            1183 non-null   object \n",
      " 2   DEATHDATE            183 non-null    object \n",
      " 3   SSN                  1183 non-null   object \n",
      " 4   DRIVERS              972 non-null    object \n",
      " 5   PASSPORT             914 non-null    object \n",
      " 6   PREFIX               948 non-null    object \n",
      " 7   FIRST                1183 non-null   object \n",
      " 8   LAST                 1183 non-null   object \n",
      " 9   SUFFIX               13 non-null     object \n",
      " 10  MAIDEN               308 non-null    object \n",
      " 11  MARITAL              801 non-null    object \n",
      " 12  RACE                 1183 non-null   object \n",
      " 13  ETHNICITY            1183 non-null   object \n",
      " 14  GENDER               1183 non-null   object \n",
      " 15  BIRTHPLACE           1183 non-null   object \n",
      " 16  ADDRESS              1183 non-null   object \n",
      " 17  CITY                 1183 non-null   object \n",
      " 18  STATE                1183 non-null   object \n",
      " 19  COUNTY               1183 non-null   object \n",
      " 20  FIPS                 864 non-null    float64\n",
      " 21  ZIP                  1183 non-null   int64  \n",
      " 22  LAT                  1183 non-null   float64\n",
      " 23  LON                  1183 non-null   float64\n",
      " 24  HEALTHCARE_EXPENSES  1183 non-null   float64\n",
      " 25  HEALTHCARE_COVERAGE  1183 non-null   float64\n",
      " 26  INCOME               1183 non-null   int64  \n",
      "dtypes: float64(5), int64(2), object(20)\n",
      "memory usage: 249.7+ KB\n"
     ]
    }
   ],
   "source": [
    "# Getting some idea on patient datasets\n",
    "patient.info()"
   ]
  },
  {
   "cell_type": "code",
   "execution_count": 4,
   "id": "b0c7cbc5-bae6-4cda-93a8-42e618fb2a35",
   "metadata": {},
   "outputs": [],
   "source": [
    "# Converting BIRTHDATE column datatype\n",
    "patient['BIRTHDATE'] = pd.to_datetime(patient['BIRTHDATE'])"
   ]
  },
  {
   "cell_type": "code",
   "execution_count": 5,
   "id": "92c76fd3-cbb2-4fc4-b9d0-e74f0daaf00d",
   "metadata": {},
   "outputs": [],
   "source": [
    "# Drpping some unnecessary column from patient table\n",
    "patient_col_drop = [ 'DEATHDATE', 'SSN', 'DRIVERS', 'PASSPORT', 'PREFIX',\n",
    "        'SUFFIX', 'MAIDEN', 'MARITAL', 'RACE', 'ETHNICITY', 'BIRTHPLACE', 'ADDRESS', 'CITY', 'FIPS',\n",
    "       'ZIP', 'LAT', 'LON']"
   ]
  },
  {
   "cell_type": "code",
   "execution_count": 6,
   "id": "fe4e93c0-fabd-4404-a51c-2a15ab210f45",
   "metadata": {},
   "outputs": [],
   "source": [
    "patient = patient.drop(patient_col_drop, axis=1)"
   ]
  },
  {
   "cell_type": "code",
   "execution_count": 7,
   "id": "fc78e418-f7ff-48c0-9f25-0085090bfd7e",
   "metadata": {},
   "outputs": [
    {
     "data": {
      "text/plain": [
       "Id                     0\n",
       "BIRTHDATE              0\n",
       "FIRST                  0\n",
       "LAST                   0\n",
       "GENDER                 0\n",
       "STATE                  0\n",
       "COUNTY                 0\n",
       "HEALTHCARE_EXPENSES    0\n",
       "HEALTHCARE_COVERAGE    0\n",
       "INCOME                 0\n",
       "dtype: int64"
      ]
     },
     "execution_count": 7,
     "metadata": {},
     "output_type": "execute_result"
    }
   ],
   "source": [
    "# Checking null values\n",
    "patient.isnull().sum()"
   ]
  },
  {
   "cell_type": "code",
   "execution_count": 8,
   "id": "5bd9a50f-d178-4398-967a-10c84505ac49",
   "metadata": {},
   "outputs": [
    {
     "name": "stdout",
     "output_type": "stream",
     "text": [
      "<class 'pandas.core.frame.DataFrame'>\n",
      "RangeIndex: 1183 entries, 0 to 1182\n",
      "Data columns (total 10 columns):\n",
      " #   Column               Non-Null Count  Dtype         \n",
      "---  ------               --------------  -----         \n",
      " 0   Id                   1183 non-null   object        \n",
      " 1   BIRTHDATE            1183 non-null   datetime64[ns]\n",
      " 2   FIRST                1183 non-null   object        \n",
      " 3   LAST                 1183 non-null   object        \n",
      " 4   GENDER               1183 non-null   object        \n",
      " 5   STATE                1183 non-null   object        \n",
      " 6   COUNTY               1183 non-null   object        \n",
      " 7   HEALTHCARE_EXPENSES  1183 non-null   float64       \n",
      " 8   HEALTHCARE_COVERAGE  1183 non-null   float64       \n",
      " 9   INCOME               1183 non-null   int64         \n",
      "dtypes: datetime64[ns](1), float64(2), int64(1), object(6)\n",
      "memory usage: 92.6+ KB\n"
     ]
    }
   ],
   "source": [
    "patient.info()"
   ]
  },
  {
   "cell_type": "code",
   "execution_count": 9,
   "id": "57406e8a-725f-4cbc-9bdc-c96b4992d797",
   "metadata": {},
   "outputs": [],
   "source": [
    "# Drpping some unnecessary column from disease table\n",
    "disease_col_drop = ['START', 'STOP', 'ENCOUNTER', 'CODE', 'SYSTEM',\n",
    "       'DESCRIPTION', 'REACTION1', 'REACTION2', 'DESCRIPTION2', 'SEVERITY2']"
   ]
  },
  {
   "cell_type": "code",
   "execution_count": 10,
   "id": "680c5603-4a99-4050-a9fc-69ace130729c",
   "metadata": {},
   "outputs": [],
   "source": [
    "disease = disease.drop(disease_col_drop, axis=1)"
   ]
  },
  {
   "cell_type": "code",
   "execution_count": 11,
   "id": "698df62f-e4d8-44be-b398-38ad2e721163",
   "metadata": {
    "scrolled": true
   },
   "outputs": [
    {
     "name": "stdout",
     "output_type": "stream",
     "text": [
      "<class 'pandas.core.frame.DataFrame'>\n",
      "RangeIndex: 831 entries, 0 to 830\n",
      "Data columns (total 5 columns):\n",
      " #   Column        Non-Null Count  Dtype \n",
      "---  ------        --------------  ----- \n",
      " 0   PATIENT       831 non-null    object\n",
      " 1   TYPE          831 non-null    object\n",
      " 2   CATEGORY      831 non-null    object\n",
      " 3   DESCRIPTION1  413 non-null    object\n",
      " 4   SEVERITY1     413 non-null    object\n",
      "dtypes: object(5)\n",
      "memory usage: 32.6+ KB\n"
     ]
    }
   ],
   "source": [
    "# Getting some idea on disease datasets\n",
    "disease.info()"
   ]
  },
  {
   "cell_type": "code",
   "execution_count": 12,
   "id": "12acda36-a840-471b-a014-409e0d8a505f",
   "metadata": {},
   "outputs": [
    {
     "data": {
      "text/plain": [
       "PATIENT           0\n",
       "TYPE              0\n",
       "CATEGORY          0\n",
       "DESCRIPTION1    418\n",
       "SEVERITY1       418\n",
       "dtype: int64"
      ]
     },
     "execution_count": 12,
     "metadata": {},
     "output_type": "execute_result"
    }
   ],
   "source": [
    "# Checking null values\n",
    "disease.isnull().sum()"
   ]
  },
  {
   "cell_type": "code",
   "execution_count": 13,
   "id": "f4ce025b-2804-41cb-b7b3-d0766e67bc8f",
   "metadata": {},
   "outputs": [
    {
     "data": {
      "text/plain": [
       "SEVERITY1\n",
       "MODERATE    240\n",
       "MILD        106\n",
       "SEVERE       67\n",
       "Name: count, dtype: int64"
      ]
     },
     "execution_count": 13,
     "metadata": {},
     "output_type": "execute_result"
    }
   ],
   "source": [
    "# Checking value in the particular column\n",
    "disease['SEVERITY1'].value_counts()"
   ]
  },
  {
   "cell_type": "code",
   "execution_count": 14,
   "id": "c22ba06d-8a80-4ad1-9a75-c6ab7ed24819",
   "metadata": {},
   "outputs": [],
   "source": [
    "# Filling null value with highest frequency value\n",
    "disease['DESCRIPTION1'] = disease['DESCRIPTION1'].fillna(disease['DESCRIPTION1'].mode()[0])"
   ]
  },
  {
   "cell_type": "code",
   "execution_count": 15,
   "id": "b6b34e9e-7629-4e88-8121-b5770c1ddf9e",
   "metadata": {},
   "outputs": [],
   "source": [
    "# Filling null value with highest frequency value\n",
    "disease['SEVERITY1'] = disease['SEVERITY1'].fillna(disease['SEVERITY1'].mode()[0])"
   ]
  },
  {
   "cell_type": "code",
   "execution_count": 16,
   "id": "a622a5d2-6726-42c0-89d4-f50e9a718da5",
   "metadata": {},
   "outputs": [
    {
     "data": {
      "text/plain": [
       "PATIENT         0\n",
       "TYPE            0\n",
       "CATEGORY        0\n",
       "DESCRIPTION1    0\n",
       "SEVERITY1       0\n",
       "dtype: int64"
      ]
     },
     "execution_count": 16,
     "metadata": {},
     "output_type": "execute_result"
    }
   ],
   "source": [
    "disease.isnull().sum()"
   ]
  },
  {
   "cell_type": "code",
   "execution_count": 17,
   "id": "dadbbabf-401e-43ed-abff-48724641d61c",
   "metadata": {},
   "outputs": [
    {
     "name": "stdout",
     "output_type": "stream",
     "text": [
      "<class 'pandas.core.frame.DataFrame'>\n",
      "RangeIndex: 69581 entries, 0 to 69580\n",
      "Data columns (total 13 columns):\n",
      " #   Column             Non-Null Count  Dtype  \n",
      "---  ------             --------------  -----  \n",
      " 0   START              69581 non-null  object \n",
      " 1   STOP               66859 non-null  object \n",
      " 2   PATIENT            69581 non-null  object \n",
      " 3   PAYER              69581 non-null  object \n",
      " 4   ENCOUNTER          69581 non-null  object \n",
      " 5   CODE               69581 non-null  int64  \n",
      " 6   DESCRIPTION        69581 non-null  object \n",
      " 7   BASE_COST          69581 non-null  float64\n",
      " 8   PAYER_COVERAGE     69581 non-null  float64\n",
      " 9   DISPENSES          69581 non-null  int64  \n",
      " 10  TOTALCOST          69581 non-null  float64\n",
      " 11  REASONCODE         54523 non-null  float64\n",
      " 12  REASONDESCRIPTION  54523 non-null  object \n",
      "dtypes: float64(4), int64(2), object(7)\n",
      "memory usage: 6.9+ MB\n"
     ]
    }
   ],
   "source": [
    "# Getting some idea on medicine datasets\n",
    "medicine.info()"
   ]
  },
  {
   "cell_type": "code",
   "execution_count": 18,
   "id": "7d6cbfa0-01f2-42d6-b599-7924baf740e9",
   "metadata": {},
   "outputs": [
    {
     "data": {
      "text/plain": [
       "CATEGORY\n",
       "environment    497\n",
       "food           233\n",
       "medication     101\n",
       "Name: count, dtype: int64"
      ]
     },
     "execution_count": 18,
     "metadata": {},
     "output_type": "execute_result"
    }
   ],
   "source": [
    "disease['CATEGORY'].value_counts()"
   ]
  },
  {
   "cell_type": "code",
   "execution_count": 19,
   "id": "2a1f7a9d-d5f6-48a2-8919-d81e5549a495",
   "metadata": {},
   "outputs": [],
   "source": [
    "# Drpping some unnecessary column from medicine table\n",
    "medicine_col_drop = ['START', 'STOP', 'PAYER', 'ENCOUNTER', 'CODE',\n",
    "       'BASE_COST', 'PAYER_COVERAGE', 'DISPENSES', 'TOTALCOST', 'REASONCODE',\n",
    "       'REASONDESCRIPTION']"
   ]
  },
  {
   "cell_type": "code",
   "execution_count": 20,
   "id": "76b9177a-7c94-4f88-b2f2-815d5e36577e",
   "metadata": {},
   "outputs": [],
   "source": [
    "medicine = medicine.drop(medicine_col_drop, axis=1)"
   ]
  },
  {
   "cell_type": "code",
   "execution_count": 21,
   "id": "32e62d02-eae0-45b4-8f2c-aa70df01a9b2",
   "metadata": {},
   "outputs": [
    {
     "data": {
      "text/plain": [
       "PATIENT        0\n",
       "DESCRIPTION    0\n",
       "dtype: int64"
      ]
     },
     "execution_count": 21,
     "metadata": {},
     "output_type": "execute_result"
    }
   ],
   "source": [
    "# Checking null values\n",
    "medicine.isnull().sum()"
   ]
  },
  {
   "cell_type": "code",
   "execution_count": 22,
   "id": "f5f7c557-524d-4950-8ca5-c5012500eddb",
   "metadata": {},
   "outputs": [],
   "source": [
    "# Drpping some unnecessary column from test table\n",
    "tests_col_drop = ['Id', 'ENCOUNTER', 'SERIES_UID', 'BODYSITE_CODE',\n",
    "       'BODYSITE_DESCRIPTION', 'MODALITY_CODE', 'MODALITY_DESCRIPTION',\n",
    "       'INSTANCE_UID', 'SOP_CODE', 'PROCEDURE_CODE']"
   ]
  },
  {
   "cell_type": "code",
   "execution_count": 23,
   "id": "56c07713-8f54-4787-b623-035a2994cf77",
   "metadata": {},
   "outputs": [],
   "source": [
    "tests = tests.drop(tests_col_drop, axis=1)"
   ]
  },
  {
   "cell_type": "code",
   "execution_count": 24,
   "id": "39a7e339-dbe4-4e27-a376-3e60092e24a0",
   "metadata": {},
   "outputs": [
    {
     "name": "stdout",
     "output_type": "stream",
     "text": [
      "<class 'pandas.core.frame.DataFrame'>\n",
      "RangeIndex: 88053 entries, 0 to 88052\n",
      "Data columns (total 3 columns):\n",
      " #   Column           Non-Null Count  Dtype \n",
      "---  ------           --------------  ----- \n",
      " 0   DATE             88053 non-null  object\n",
      " 1   PATIENT          88053 non-null  object\n",
      " 2   SOP_DESCRIPTION  88053 non-null  object\n",
      "dtypes: object(3)\n",
      "memory usage: 2.0+ MB\n"
     ]
    }
   ],
   "source": [
    "# Getting some idea on tests datasets\n",
    "tests.info()"
   ]
  },
  {
   "cell_type": "code",
   "execution_count": 25,
   "id": "6727678d-f9a4-47e1-9430-1c5d38bcb6a1",
   "metadata": {},
   "outputs": [
    {
     "data": {
      "text/plain": [
       "DATE               0\n",
       "PATIENT            0\n",
       "SOP_DESCRIPTION    0\n",
       "dtype: int64"
      ]
     },
     "execution_count": 25,
     "metadata": {},
     "output_type": "execute_result"
    }
   ],
   "source": [
    "# Checking null values\n",
    "tests.isnull().sum()"
   ]
  },
  {
   "cell_type": "code",
   "execution_count": 26,
   "id": "d320dee2-9dcb-4910-9bdd-5ab72d393dd5",
   "metadata": {},
   "outputs": [],
   "source": [
    "# Converting DATE column datatype\n",
    "tests['DATE'] = pd.to_datetime(tests['DATE'])"
   ]
  },
  {
   "cell_type": "code",
   "execution_count": 29,
   "id": "55ba7895-4261-4121-a113-111bbc4093a9",
   "metadata": {},
   "outputs": [],
   "source": [
    "# Extract date component\n",
    "tests['Test_date'] = tests['DATE'].dt.date"
   ]
  },
  {
   "cell_type": "code",
   "execution_count": 32,
   "id": "c26e2ca2-66b6-4a70-8cac-7e6265235cc5",
   "metadata": {},
   "outputs": [],
   "source": [
    "tests = tests.drop('DATE', axis=1)"
   ]
  },
  {
   "cell_type": "code",
   "execution_count": 33,
   "id": "0e84eaf5-1496-480e-ad2f-52edee8c0f5d",
   "metadata": {},
   "outputs": [
    {
     "name": "stdout",
     "output_type": "stream",
     "text": [
      "<class 'pandas.core.frame.DataFrame'>\n",
      "RangeIndex: 88053 entries, 0 to 88052\n",
      "Data columns (total 3 columns):\n",
      " #   Column           Non-Null Count  Dtype \n",
      "---  ------           --------------  ----- \n",
      " 0   PATIENT          88053 non-null  object\n",
      " 1   SOP_DESCRIPTION  88053 non-null  object\n",
      " 2   Test_date        88053 non-null  object\n",
      "dtypes: object(3)\n",
      "memory usage: 2.0+ MB\n"
     ]
    }
   ],
   "source": [
    "tests.info()"
   ]
  },
  {
   "cell_type": "code",
   "execution_count": 88,
   "id": "0a4d1521-b2a3-46b6-942a-3d66c67bbca1",
   "metadata": {},
   "outputs": [],
   "source": [
    "# Convert disease to excel\n",
    "disease.to_excel('Diseases.xlsx', index=False)"
   ]
  },
  {
   "cell_type": "code",
   "execution_count": 35,
   "id": "7ed42203-0f64-4f2f-8fb4-e66b1151b80f",
   "metadata": {},
   "outputs": [],
   "source": [
    "# Convert tests to excel\n",
    "tests.to_excel('TestsN.xlsx', index=False)"
   ]
  },
  {
   "cell_type": "code",
   "execution_count": 62,
   "id": "3b2a0011-9a6b-4aaa-b3e7-0b9ca28d844c",
   "metadata": {},
   "outputs": [],
   "source": [
    "# Convert patient to excel\n",
    "patient.to_excel('Patients.xlsx', index=False)"
   ]
  },
  {
   "cell_type": "code",
   "execution_count": 63,
   "id": "c3663767-f307-4db8-ab2c-b23c2b6bd481",
   "metadata": {},
   "outputs": [],
   "source": [
    "# Convert medicine to excel\n",
    "medicine.to_excel('Medication.xlsx', index=False)"
   ]
  },
  {
   "cell_type": "code",
   "execution_count": null,
   "id": "729575a2-65be-4997-b3d9-d437c6157920",
   "metadata": {},
   "outputs": [],
   "source": []
  }
 ],
 "metadata": {
  "kernelspec": {
   "display_name": "Python 3 (ipykernel)",
   "language": "python",
   "name": "python3"
  },
  "language_info": {
   "codemirror_mode": {
    "name": "ipython",
    "version": 3
   },
   "file_extension": ".py",
   "mimetype": "text/x-python",
   "name": "python",
   "nbconvert_exporter": "python",
   "pygments_lexer": "ipython3",
   "version": "3.11.7"
  }
 },
 "nbformat": 4,
 "nbformat_minor": 5
}
